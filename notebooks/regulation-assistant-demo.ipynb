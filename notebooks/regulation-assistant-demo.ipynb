{
 "cells": [
  {
   "cell_type": "code",
   "execution_count": 1,
   "id": "97fb34df-36cf-4538-939b-2b3af7d612a4",
   "metadata": {},
   "outputs": [],
   "source": [
    "from langchain.document_loaders import JSONLoader"
   ]
  },
  {
   "cell_type": "code",
   "execution_count": 4,
   "id": "d77ab575-696a-4e6f-a9d6-34ad42b4d33b",
   "metadata": {},
   "outputs": [],
   "source": [
    "loader = JSONLoader(\n",
    "    file_path='../data/32_residential_zones.jsonl',\n",
    "    jq_schema='.',\n",
    "    text_content=False,\n",
    "    json_lines=True)"
   ]
  },
  {
   "cell_type": "code",
   "execution_count": 5,
   "id": "3ed8c8af-5781-440e-90db-70f4adb76f5b",
   "metadata": {},
   "outputs": [],
   "source": [
    "# Split documents\n",
    "\n",
    "from langchain.text_splitter import RecursiveCharacterTextSplitter\n",
    "text_splitter = RecursiveCharacterTextSplitter(chunk_size = 500, chunk_overlap = 0)\n",
    "data = loader.load()\n",
    "splits = text_splitter.split_documents(data)"
   ]
  },
  {
   "cell_type": "code",
   "execution_count": 6,
   "id": "17829ae8-f9a7-4a7a-ac05-c9eab881ba0f",
   "metadata": {},
   "outputs": [],
   "source": [
    "# Embed and store splits\n",
    "\n",
    "from langchain.vectorstores import Chroma\n",
    "from langchain.embeddings import OpenAIEmbeddings\n",
    "vectorstore = Chroma.from_documents(documents=splits,embedding=OpenAIEmbeddings())\n",
    "retriever = vectorstore.as_retriever()"
   ]
  },
  {
   "cell_type": "code",
   "execution_count": 7,
   "id": "b1a24ab9-7345-4249-a348-8bd021802cb3",
   "metadata": {},
   "outputs": [
    {
     "data": {
      "text/plain": [
       "ChatPromptTemplate(input_variables=['question', 'context'], messages=[HumanMessagePromptTemplate(prompt=PromptTemplate(input_variables=['question', 'context'], template=\"You are an assistant for question-answering tasks. Use the following pieces of retrieved context to answer the question. If you don't know the answer, just say that you don't know. Use three sentences maximum and keep the answer concise.\\nQuestion: {question} \\nContext: {context} \\nAnswer:\"))])"
      ]
     },
     "execution_count": 7,
     "metadata": {},
     "output_type": "execute_result"
    }
   ],
   "source": [
    "# Prompt \n",
    "\n",
    "from langchain import hub\n",
    "rag_prompt = hub.pull(\"rlm/rag-prompt\")\n",
    "rag_prompt"
   ]
  },
  {
   "cell_type": "code",
   "execution_count": 8,
   "id": "3d026f00-2ee7-4b0e-b0ca-035d92cc1ba5",
   "metadata": {},
   "outputs": [],
   "source": [
    "# LLM\n",
    "\n",
    "from langchain.chat_models import ChatOpenAI\n",
    "llm = ChatOpenAI(model_name=\"gpt-4-0613\", temperature=0)"
   ]
  },
  {
   "cell_type": "code",
   "execution_count": 9,
   "id": "c5ce2ce2-a805-4836-bcda-5b7047314e40",
   "metadata": {},
   "outputs": [],
   "source": [
    "# RAG chain \n",
    "\n",
    "from langchain.schema.runnable import RunnablePassthrough\n",
    "rag_chain = (\n",
    "    {\"context\": retriever, \"question\": RunnablePassthrough()} \n",
    "    | rag_prompt \n",
    "    | llm \n",
    ")"
   ]
  },
  {
   "cell_type": "markdown",
   "id": "abf51a79-104e-4910-878d-e0fd74e1350b",
   "metadata": {},
   "source": [
    "## Scenario 1: Permit not needed"
   ]
  },
  {
   "cell_type": "code",
   "execution_count": 10,
   "id": "3019c5f7-fc6d-4b38-b3c0-936838412015",
   "metadata": {},
   "outputs": [
    {
     "data": {
      "text/plain": [
       "AIMessage(content='No, you do not need a permit to build a bed and breakfast. However, there are conditions that must be met: no more than 10 persons may be accommodated away from their normal place of residence and at least 1 car parking space must be provided for each 2 persons.')"
      ]
     },
     "execution_count": 10,
     "metadata": {},
     "output_type": "execute_result"
    }
   ],
   "source": [
    "rag_chain.invoke(\"Do I need a permit to build a bed and breakfast? And what are the conditions\")"
   ]
  },
  {
   "cell_type": "code",
   "execution_count": 16,
   "id": "824e1c74-0717-4736-b42e-8bacd36b60d1",
   "metadata": {},
   "outputs": [
    {
     "data": {
      "text/plain": [
       "AIMessage(content='No, you do not need a permit to build a Bed and Breakfast (B&B). However, there are conditions that must be met: no more than 10 persons may be accommodated away from their normal place of residence and at least 1 car parking space must be provided for each 2 persons.')"
      ]
     },
     "execution_count": 16,
     "metadata": {},
     "output_type": "execute_result"
    }
   ],
   "source": [
    "rag_chain.invoke(\"Do I need a permit to build a B&B? And what are the conditions\")"
   ]
  },
  {
   "cell_type": "code",
   "execution_count": 11,
   "id": "3bfbcc1f-9c43-4246-ab6e-8805c4a5e1ba",
   "metadata": {},
   "outputs": [
    {
     "data": {
      "text/plain": [
       "AIMessage(content='No, a permit is not required to build an Automated collection point. However, it must meet the requirements of Clause 52.13-3 and 52.13-5, and the gross floor area of all buildings must not exceed 50 square metres.')"
      ]
     },
     "execution_count": 11,
     "metadata": {},
     "output_type": "execute_result"
    }
   ],
   "source": [
    "rag_chain.invoke(\"Do I need a permit to build a Automated collection point?\")"
   ]
  },
  {
   "cell_type": "markdown",
   "id": "d52ecc40-34a3-4c51-9a30-0ea0171950ae",
   "metadata": {},
   "source": [
    "## Scenario 2: Out of scope; not in regulations"
   ]
  },
  {
   "cell_type": "code",
   "execution_count": 13,
   "id": "f1d58855-1a2a-450a-9a64-ad9ab6a817e4",
   "metadata": {},
   "outputs": [
    {
     "data": {
      "text/plain": [
       "AIMessage(content='The documents do not provide specific information on whether a permit is required to build a Funland Symposium.')"
      ]
     },
     "execution_count": 13,
     "metadata": {},
     "output_type": "execute_result"
    }
   ],
   "source": [
    "rag_chain.invoke(\"Do I need a permit to build a Funland Symposium?\")"
   ]
  },
  {
   "cell_type": "markdown",
   "id": "17ecd84a-bca8-40fa-be69-a9b42ef12147",
   "metadata": {},
   "source": [
    "## Scenario 3: Permit needed"
   ]
  },
  {
   "cell_type": "code",
   "execution_count": 17,
   "id": "8cdd24b6-619e-4e2b-a62d-f90f4ebffb75",
   "metadata": {},
   "outputs": [
    {
     "data": {
      "text/plain": [
       "AIMessage(content='Yes, you do need a permit to build a car park. The permit is required under Section 2 of the regulations. The car park must be used in conjunction with another use in Section 1 or 2.')"
      ]
     },
     "execution_count": 17,
     "metadata": {},
     "output_type": "execute_result"
    }
   ],
   "source": [
    "rag_chain.invoke(\"Do I need a permit to build a Car park?\")"
   ]
  }
 ],
 "metadata": {
  "kernelspec": {
   "display_name": "Python 3 (ipykernel)",
   "language": "python",
   "name": "python3"
  },
  "language_info": {
   "codemirror_mode": {
    "name": "ipython",
    "version": 3
   },
   "file_extension": ".py",
   "mimetype": "text/x-python",
   "name": "python",
   "nbconvert_exporter": "python",
   "pygments_lexer": "ipython3",
   "version": "3.10.11"
  }
 },
 "nbformat": 4,
 "nbformat_minor": 5
}
